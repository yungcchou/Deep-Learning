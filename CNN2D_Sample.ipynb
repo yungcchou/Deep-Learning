{
 "cells": [
  {
   "cell_type": "code",
   "execution_count": 1,
   "metadata": {},
   "outputs": [
    {
     "name": "stdout",
     "output_type": "stream",
     "text": [
      "Image dog-puppy.jpeg shape: (1197, 1200, 3)\n",
      "Image IMG_2465.jpeg shape: (3024, 4032, 3)\n",
      "Image IMG_4365.jpeg shape: (4032, 2268, 3)\n"
     ]
    }
   ],
   "source": [
    "import os\n",
    "from PIL import Image\n",
    "import numpy as np\n",
    "\n",
    "# Define the folder and image names\n",
    "folder = 'imgs'\n",
    "imgNames = ['dog-puppy.jpeg', 'IMG_2465.jpeg', 'IMG_4365.jpeg']\n",
    "\n",
    "# Initialize an empty list to store images\n",
    "images = []\n",
    "\n",
    "# Load each image and convert it to a NumPy array\n",
    "for imgName in imgNames:\n",
    "    img_path = os.path.join(folder, imgName)  # Full path to the image\n",
    "    img = Image.open(img_path)  # Open the image using PIL\n",
    "    img_array = np.array(img)   # Convert the image to a NumPy array\n",
    "    images.append(img_array)    # Add the array to the images list\n",
    "\n",
    "# Print the shape of the loaded images\n",
    "for i, img_array in enumerate(images):\n",
    "    print(f\"Image {imgNames[i]} shape: {img_array.shape}\")\n"
   ]
  },
  {
   "cell_type": "code",
   "execution_count": 6,
   "metadata": {},
   "outputs": [
    {
     "name": "stdout",
     "output_type": "stream",
     "text": [
      "Output after convolution without padding:\n",
      "[[ 266.  -61.  -30.]\n",
      " [ 116.  -47.  295.]\n",
      " [-135.  256. -128.]]\n"
     ]
    }
   ],
   "source": [
    "import numpy as np\n",
    "\n",
    "# Input image array (5x5)\n",
    "img_array = np.array( [ [ 60, 113,  56, 139,  85],\n",
    "                        [ 73, 121,  54,  84, 128],\n",
    "                        [131,  99,  70, 129, 127],\n",
    "                        [ 80,  57, 115,  69, 134],\n",
    "                        [104, 126, 123,  95, 130]])\n",
    "\n",
    "# Filter array (3x3)\n",
    "filter_array = np.array([   [ 0, -1,  0],\n",
    "                            [-1,  5, -1],\n",
    "                            [ 0, -1,  0]])\n",
    "\n",
    "# Get dimensions of image and filter\n",
    "img_height, img_width = img_array.shape\n",
    "filter_height, filter_width = filter_array.shape\n",
    "\n",
    "# Output dimensions for convolution without padding\n",
    "output_height = img_height - filter_height + 1\n",
    "output_width = img_width - filter_width + 1\n",
    "\n",
    "# Initialize the output array\n",
    "output_array = np.zeros((output_height, output_width))\n",
    "\n",
    "# Perform convolution operation without padding\n",
    "for i in range(output_height):\n",
    "    for j in range(output_width):\n",
    "        # Extract the current region of the image\n",
    "        region = img_array[i:i+filter_height, j:j+filter_width]\n",
    "        \n",
    "        # Perform element-wise multiplication and sum the result\n",
    "        output_array[i, j] = np.sum(region * filter_array)\n",
    "\n",
    "# Print the output array\n",
    "print(\"Output after convolution without padding:\")\n",
    "print(output_array)"
   ]
  },
  {
   "cell_type": "code",
   "execution_count": 7,
   "metadata": {},
   "outputs": [
    {
     "data": {
      "text/plain": [
       "-128"
      ]
     },
     "execution_count": 7,
     "metadata": {},
     "output_type": "execute_result"
    }
   ],
   "source": [
    "-129-115-95-134+(69*5)"
   ]
  },
  {
   "cell_type": "code",
   "execution_count": 5,
   "metadata": {},
   "outputs": [
    {
     "name": "stdout",
     "output_type": "stream",
     "text": [
      "Padded image:\n",
      "[[  0   0   0   0   0   0   0]\n",
      " [  0  60 113  56 139  85   0]\n",
      " [  0  73 121  54  84 128   0]\n",
      " [  0 131  99  70 129 127   0]\n",
      " [  0  80  57 115  69 134   0]\n",
      " [  0 104 126 123  95 130   0]\n",
      " [  0   0   0   0   0   0   0]]\n",
      "\n",
      "Output after convolution with zero padding:\n",
      "[[ 114.  328.  -26.  470.  158.]\n",
      " [  53.  266.  -61.  -30.  344.]\n",
      " [ 403.  116.  -47.  295.  244.]\n",
      " [ 108. -135.  256. -128.  344.]\n",
      " [ 314.  346.  279.  153.  421.]]\n"
     ]
    }
   ],
   "source": [
    "import numpy as np\n",
    "\n",
    "# Input image array (5x5)\n",
    "img_array = np.array( [ [ 60, 113,  56, 139,  85],\n",
    "                        [ 73, 121,  54,  84, 128],\n",
    "                        [131,  99,  70, 129, 127],\n",
    "                        [ 80,  57, 115,  69, 134],\n",
    "                        [104, 126, 123,  95, 130]])\n",
    "\n",
    "# Filter array (3x3)\n",
    "filter_array = np.array([   [ 0, -1,  0],\n",
    "                            [-1,  5, -1],\n",
    "                            [ 0, -1,  0]])\n",
    "\n",
    "# Get dimensions of image and filter\n",
    "img_height, img_width = img_array.shape\n",
    "filter_height, filter_width = filter_array.shape\n",
    "\n",
    "# Set padding size (p = 1 for 3x3 filter to retain the same dimensions as input)\n",
    "pad = 1\n",
    "\n",
    "# Add zero padding to the input image\n",
    "padded_img = np.pad(img_array, pad_width=pad, mode='constant', constant_values=0)\n",
    "\n",
    "# New padded image dimensions\n",
    "padded_img_height, padded_img_width = padded_img.shape\n",
    "\n",
    "# Output dimensions with padding\n",
    "output_height = padded_img_height - filter_height + 1\n",
    "output_width = padded_img_width - filter_width + 1\n",
    "\n",
    "# Initialize the output array\n",
    "output_array = np.zeros((output_height, output_width))\n",
    "\n",
    "# Perform convolution operation with padding\n",
    "for i in range(output_height):\n",
    "    for j in range(output_width):\n",
    "        # Extract the current region of the padded image\n",
    "        region = padded_img[i:i+filter_height, j:j+filter_width]\n",
    "        \n",
    "        # Perform element-wise multiplication and sum the result\n",
    "        output_array[i, j] = np.sum(region * filter_array)\n",
    "\n",
    "# Print the padded image and output array\n",
    "print(\"Padded image:\")\n",
    "print(padded_img)\n",
    "\n",
    "print(\"\\nOutput after convolution with zero padding:\")\n",
    "print(output_array)\n"
   ]
  }
 ],
 "metadata": {
  "kernelspec": {
   "display_name": "113_DeepLearning",
   "language": "python",
   "name": "python3"
  },
  "language_info": {
   "codemirror_mode": {
    "name": "ipython",
    "version": 3
   },
   "file_extension": ".py",
   "mimetype": "text/x-python",
   "name": "python",
   "nbconvert_exporter": "python",
   "pygments_lexer": "ipython3",
   "version": "3.11.9"
  }
 },
 "nbformat": 4,
 "nbformat_minor": 2
}
