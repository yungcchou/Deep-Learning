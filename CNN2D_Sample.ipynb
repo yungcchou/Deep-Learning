{
 "cells": [
  {
   "cell_type": "code",
   "execution_count": 1,
   "metadata": {},
   "outputs": [
    {
     "name": "stdout",
     "output_type": "stream",
     "text": [
      "Image dog-puppy.jpeg shape: (1197, 1200, 3)\n",
      "Image IMG_2465.jpeg shape: (3024, 4032, 3)\n",
      "Image IMG_4365.jpeg shape: (4032, 2268, 3)\n"
     ]
    }
   ],
   "source": [
    "import os\n",
    "from PIL import Image\n",
    "import numpy as np\n",
    "\n",
    "# Define the folder and image names\n",
    "folder = 'imgs'\n",
    "imgNames = ['dog-puppy.jpeg', 'IMG_2465.jpeg', 'IMG_4365.jpeg']\n",
    "\n",
    "# Initialize an empty list to store images\n",
    "images = []\n",
    "\n",
    "# Load each image and convert it to a NumPy array\n",
    "for imgName in imgNames:\n",
    "    img_path = os.path.join(folder, imgName)  # Full path to the image\n",
    "    img = Image.open(img_path)  # Open the image using PIL\n",
    "    img_array = np.array(img)   # Convert the image to a NumPy array\n",
    "    images.append(img_array)    # Add the array to the images list\n",
    "\n",
    "# Print the shape of the loaded images\n",
    "for i, img_array in enumerate(images):\n",
    "    print(f\"Image {imgNames[i]} shape: {img_array.shape}\")\n"
   ]
  }
 ],
 "metadata": {
  "kernelspec": {
   "display_name": "113_DeepLearning",
   "language": "python",
   "name": "python3"
  },
  "language_info": {
   "codemirror_mode": {
    "name": "ipython",
    "version": 3
   },
   "file_extension": ".py",
   "mimetype": "text/x-python",
   "name": "python",
   "nbconvert_exporter": "python",
   "pygments_lexer": "ipython3",
   "version": "3.11.9"
  }
 },
 "nbformat": 4,
 "nbformat_minor": 2
}
