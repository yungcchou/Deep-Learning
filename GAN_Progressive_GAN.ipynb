{
 "cells": [
  {
   "cell_type": "markdown",
   "metadata": {},
   "source": [
    "# Progressive GAN\n",
    "\n",
    "A real-world dataset to demonstrate the steps of Progressive GAN can be the Flickr-Faces-HQ (FFHQ) dataset, widely used for high-resolution image generation tasks. "
   ]
  },
  {
   "cell_type": "markdown",
   "metadata": {},
   "source": [
    "## Real-World Dataset: FFHQ\n",
    "\n",
    "- Dataset: Flickr-Faces-HQ (FFHQ)\n",
    "- Description: A dataset of high-quality human faces with diverse age, gender, and ethnicity variations.\n",
    "- Image Resolution: $1024\\times 1024$\n",
    "- Size: ~70,000 images.\n",
    "- Availability: Downloadable from NVIDIA's official repository:\n",
    "    - [Link to FFHQ dataset](https://github.com/NVlabs/ffhq-dataset)"
   ]
  },
  {
   "cell_type": "markdown",
   "metadata": {},
   "source": [
    "## Steps to Implement Progressive GAN on FFHQ Dataset\n",
    "- Step 1: Data Preparation\n",
    "  1. Download the Dataset:\n",
    "      - Download the FFHQ dataset in $1024\\times 1024$ resolution.\n",
    "  2. Preprocess the Images:\n",
    "      - Resize the images to multiple resolutions for progressive training:\n",
    "      Resolutions: $4 \\times 4 \\to 8 \\times 8 \\to 16\\times 16 \\to 32 \\times 32 \\to 64\\times 64 \\to 128 \\times 128 \\to 256 \\times 256 \\to 512\\times 512 \\to 1024\\times 1024$\n",
    "      - Normalize the images to the range [−1,1] for stable GAN training."
   ]
  },
  {
   "cell_type": "code",
   "execution_count": 4,
   "metadata": {},
   "outputs": [
    {
     "ename": "FileNotFoundError",
     "evalue": "[Errno 2] No such file or directory: 'ffhq_dataset'",
     "output_type": "error",
     "traceback": [
      "\u001b[0;31m---------------------------------------------------------------------------\u001b[0m",
      "\u001b[0;31mFileNotFoundError\u001b[0m                         Traceback (most recent call last)",
      "Cell \u001b[0;32mIn[4], line 17\u001b[0m\n\u001b[1;32m     14\u001b[0m             cv2\u001b[38;5;241m.\u001b[39mimwrite(os\u001b[38;5;241m.\u001b[39mpath\u001b[38;5;241m.\u001b[39mjoin(res_dir, file), (img \u001b[38;5;241m+\u001b[39m \u001b[38;5;241m1\u001b[39m) \u001b[38;5;241m*\u001b[39m \u001b[38;5;241m127.5\u001b[39m)\n\u001b[1;32m     16\u001b[0m resolutions \u001b[38;5;241m=\u001b[39m [\u001b[38;5;241m4\u001b[39m, \u001b[38;5;241m8\u001b[39m, \u001b[38;5;241m16\u001b[39m, \u001b[38;5;241m32\u001b[39m, \u001b[38;5;241m64\u001b[39m, \u001b[38;5;241m128\u001b[39m, \u001b[38;5;241m256\u001b[39m, \u001b[38;5;241m512\u001b[39m, \u001b[38;5;241m1024\u001b[39m]\n\u001b[0;32m---> 17\u001b[0m \u001b[43mpreprocess_images\u001b[49m\u001b[43m(\u001b[49m\u001b[38;5;124;43m\"\u001b[39;49m\u001b[38;5;124;43mffhq_dataset\u001b[39;49m\u001b[38;5;124;43m\"\u001b[39;49m\u001b[43m,\u001b[49m\u001b[43m \u001b[49m\u001b[38;5;124;43m\"\u001b[39;49m\u001b[38;5;124;43mffhq_resolutions\u001b[39;49m\u001b[38;5;124;43m\"\u001b[39;49m\u001b[43m,\u001b[49m\u001b[43m \u001b[49m\u001b[43mresolutions\u001b[49m\u001b[43m)\u001b[49m\n",
      "Cell \u001b[0;32mIn[4], line 10\u001b[0m, in \u001b[0;36mpreprocess_images\u001b[0;34m(input_dir, output_dir, resolutions)\u001b[0m\n\u001b[1;32m      8\u001b[0m res_dir \u001b[38;5;241m=\u001b[39m os\u001b[38;5;241m.\u001b[39mpath\u001b[38;5;241m.\u001b[39mjoin(output_dir, \u001b[38;5;124mf\u001b[39m\u001b[38;5;124m\"\u001b[39m\u001b[38;5;132;01m{\u001b[39;00mres\u001b[38;5;132;01m}\u001b[39;00m\u001b[38;5;124mx\u001b[39m\u001b[38;5;132;01m{\u001b[39;00mres\u001b[38;5;132;01m}\u001b[39;00m\u001b[38;5;124m\"\u001b[39m)\n\u001b[1;32m      9\u001b[0m os\u001b[38;5;241m.\u001b[39mmakedirs(res_dir, exist_ok\u001b[38;5;241m=\u001b[39m\u001b[38;5;28;01mTrue\u001b[39;00m)\n\u001b[0;32m---> 10\u001b[0m \u001b[38;5;28;01mfor\u001b[39;00m file \u001b[38;5;129;01min\u001b[39;00m \u001b[43mos\u001b[49m\u001b[38;5;241;43m.\u001b[39;49m\u001b[43mlistdir\u001b[49m\u001b[43m(\u001b[49m\u001b[43minput_dir\u001b[49m\u001b[43m)\u001b[49m:\n\u001b[1;32m     11\u001b[0m     img \u001b[38;5;241m=\u001b[39m cv2\u001b[38;5;241m.\u001b[39mimread(os\u001b[38;5;241m.\u001b[39mpath\u001b[38;5;241m.\u001b[39mjoin(input_dir, file))\n\u001b[1;32m     12\u001b[0m     img \u001b[38;5;241m=\u001b[39m cv2\u001b[38;5;241m.\u001b[39mresize(img, (res, res))\n",
      "\u001b[0;31mFileNotFoundError\u001b[0m: [Errno 2] No such file or directory: 'ffhq_dataset'"
     ]
    }
   ],
   "source": [
    "import cv2\n",
    "import os\n",
    "import numpy as np\n",
    "\n",
    "def preprocess_images(input_dir, output_dir, resolutions):\n",
    "    os.makedirs(output_dir, exist_ok=True)\n",
    "    for res in resolutions:\n",
    "        res_dir = os.path.join(output_dir, f\"{res}x{res}\")\n",
    "        os.makedirs(res_dir, exist_ok=True)\n",
    "        for file in os.listdir(input_dir):\n",
    "            img = cv2.imread(os.path.join(input_dir, file))\n",
    "            img = cv2.resize(img, (res, res))\n",
    "            img = (img / 127.5) - 1  # Normalize to [-1, 1]\n",
    "            cv2.imwrite(os.path.join(res_dir, file), (img + 1) * 127.5)\n",
    "\n",
    "resolutions = [4, 8, 16, 32, 64, 128, 256, 512, 1024]\n",
    "preprocess_images(\"ffhq_dataset\", \"ffhq_resolutions\", resolutions)"
   ]
  },
  {
   "cell_type": "code",
   "execution_count": null,
   "metadata": {},
   "outputs": [],
   "source": []
  }
 ],
 "metadata": {
  "kernelspec": {
   "display_name": "113_Python",
   "language": "python",
   "name": "python3"
  },
  "language_info": {
   "codemirror_mode": {
    "name": "ipython",
    "version": 3
   },
   "file_extension": ".py",
   "mimetype": "text/x-python",
   "name": "python",
   "nbconvert_exporter": "python",
   "pygments_lexer": "ipython3",
   "version": "3.11.9"
  }
 },
 "nbformat": 4,
 "nbformat_minor": 2
}
